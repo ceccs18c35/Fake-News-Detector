{
  "nbformat": 4,
  "nbformat_minor": 0,
  "metadata": {
    "colab": {
      "name": "Fake_news_detector.ipynb",
      "provenance": [],
      "collapsed_sections": []
    },
    "kernelspec": {
      "name": "python3",
      "display_name": "Python 3"
    }
  },
  "cells": [
    {
      "cell_type": "code",
      "metadata": {
        "id": "_lu5I15e2jms"
      },
      "source": [
        "import pandas as pd"
      ],
      "execution_count": 2,
      "outputs": []
    },
    {
      "cell_type": "code",
      "metadata": {
        "id": "vgvrrpFx2oRR"
      },
      "source": [
        "import numpy as np\n",
        "from sklearn.model_selection import train_test_split\n",
        "from sklearn.feature_extraction.text import TfidfVectorizer\n",
        "import matplotlib.pyplot as plt\n",
        "import itertools\n",
        "from sklearn import metrics\n",
        "from sklearn.feature_extraction.stop_words import ENGLISH_STOP_WORDS\n",
        "from xgboost import XGBClassifier\n",
        "\n",
        "import nltk\n",
        "from nltk.corpus import stopwords\n",
        "\n",
        "import pickle"
      ],
      "execution_count": 4,
      "outputs": []
    },
    {
      "cell_type": "code",
      "metadata": {
        "id": "EhveF2_-UpHN"
      },
      "source": [
        ""
      ],
      "execution_count": null,
      "outputs": []
    },
    {
      "cell_type": "markdown",
      "metadata": {
        "id": "XFi2Hpi9Upxe"
      },
      "source": [
        "# Reading training data "
      ]
    },
    {
      "cell_type": "code",
      "metadata": {
        "id": "DcGXreHqBjmx"
      },
      "source": [
        "df = pd.read_csv(\"design_health_data.csv\")"
      ],
      "execution_count": 119,
      "outputs": []
    },
    {
      "cell_type": "code",
      "metadata": {
        "colab": {
          "base_uri": "https://localhost:8080/"
        },
        "id": "B6HSaSGsB2pq",
        "outputId": "ad76f54c-641e-4e3e-caa4-ee4e6d6c4893"
      },
      "source": [
        "df.shape"
      ],
      "execution_count": 120,
      "outputs": [
        {
          "output_type": "execute_result",
          "data": {
            "text/plain": [
              "(1147, 6)"
            ]
          },
          "metadata": {
            "tags": []
          },
          "execution_count": 120
        }
      ]
    },
    {
      "cell_type": "markdown",
      "metadata": {
        "id": "m8hlVLOAVNem"
      },
      "source": [
        "Count of true and fake news"
      ]
    },
    {
      "cell_type": "code",
      "metadata": {
        "colab": {
          "base_uri": "https://localhost:8080/"
        },
        "id": "VuQ2n_ENHXDd",
        "outputId": "dd9d44f6-ce5f-443e-df48-ef14b292804c"
      },
      "source": [
        "df['label'].value_counts()"
      ],
      "execution_count": 117,
      "outputs": [
        {
          "output_type": "execute_result",
          "data": {
            "text/plain": [
              "true    582\n",
              "fake    565\n",
              "Name: label, dtype: int64"
            ]
          },
          "metadata": {
            "tags": []
          },
          "execution_count": 117
        }
      ]
    },
    {
      "cell_type": "code",
      "metadata": {
        "colab": {
          "base_uri": "https://localhost:8080/",
          "height": 204
        },
        "id": "2tow0VCS7lJI",
        "outputId": "8e019ef2-6ad6-4bf6-fd7a-cafa80de12bd"
      },
      "source": [
        "df.head(5)"
      ],
      "execution_count": 121,
      "outputs": [
        {
          "output_type": "execute_result",
          "data": {
            "text/html": [
              "<div>\n",
              "<style scoped>\n",
              "    .dataframe tbody tr th:only-of-type {\n",
              "        vertical-align: middle;\n",
              "    }\n",
              "\n",
              "    .dataframe tbody tr th {\n",
              "        vertical-align: top;\n",
              "    }\n",
              "\n",
              "    .dataframe thead th {\n",
              "        text-align: right;\n",
              "    }\n",
              "</style>\n",
              "<table border=\"1\" class=\"dataframe\">\n",
              "  <thead>\n",
              "    <tr style=\"text-align: right;\">\n",
              "      <th></th>\n",
              "      <th>Unnamed: 0</th>\n",
              "      <th>Unnamed: 0.1</th>\n",
              "      <th>title</th>\n",
              "      <th>text</th>\n",
              "      <th>source</th>\n",
              "      <th>label</th>\n",
              "    </tr>\n",
              "  </thead>\n",
              "  <tbody>\n",
              "    <tr>\n",
              "      <th>0</th>\n",
              "      <td>0</td>\n",
              "      <td>0</td>\n",
              "      <td>Due to the recent outbreak for the Coronavirus...</td>\n",
              "      <td>You just need to add water, and the drugs and ...</td>\n",
              "      <td>coronavirusmedicalkit.com</td>\n",
              "      <td>fake</td>\n",
              "    </tr>\n",
              "    <tr>\n",
              "      <th>1</th>\n",
              "      <td>1</td>\n",
              "      <td>1</td>\n",
              "      <td>NaN</td>\n",
              "      <td>Hydroxychloroquine has been shown to have a 10...</td>\n",
              "      <td>RudyGiuliani</td>\n",
              "      <td>fake</td>\n",
              "    </tr>\n",
              "    <tr>\n",
              "      <th>2</th>\n",
              "      <td>2</td>\n",
              "      <td>2</td>\n",
              "      <td>NaN</td>\n",
              "      <td>Fact: Hydroxychloroquine has been shown to hav...</td>\n",
              "      <td>CharlieKirk</td>\n",
              "      <td>fake</td>\n",
              "    </tr>\n",
              "    <tr>\n",
              "      <th>3</th>\n",
              "      <td>3</td>\n",
              "      <td>3</td>\n",
              "      <td>NaN</td>\n",
              "      <td>The Corona virus is a man made virus created i...</td>\n",
              "      <td>JoanneWrightForCongress</td>\n",
              "      <td>fake</td>\n",
              "    </tr>\n",
              "    <tr>\n",
              "      <th>4</th>\n",
              "      <td>4</td>\n",
              "      <td>4</td>\n",
              "      <td>NaN</td>\n",
              "      <td>Doesn’t @BillGates finance research at the Wuh...</td>\n",
              "      <td>JoanneWrightForCongress</td>\n",
              "      <td>fake</td>\n",
              "    </tr>\n",
              "  </tbody>\n",
              "</table>\n",
              "</div>"
            ],
            "text/plain": [
              "   Unnamed: 0  Unnamed: 0.1  ...                     source label\n",
              "0           0             0  ...  coronavirusmedicalkit.com  fake\n",
              "1           1             1  ...               RudyGiuliani  fake\n",
              "2           2             2  ...                CharlieKirk  fake\n",
              "3           3             3  ...    JoanneWrightForCongress  fake\n",
              "4           4             4  ...    JoanneWrightForCongress  fake\n",
              "\n",
              "[5 rows x 6 columns]"
            ]
          },
          "metadata": {
            "tags": []
          },
          "execution_count": 121
        }
      ]
    },
    {
      "cell_type": "code",
      "metadata": {
        "id": "al_GeyxlVlr7"
      },
      "source": [
        "df = df.dropna()"
      ],
      "execution_count": 124,
      "outputs": []
    },
    {
      "cell_type": "code",
      "metadata": {
        "colab": {
          "base_uri": "https://localhost:8080/"
        },
        "id": "7_qNNOFdInBh",
        "outputId": "8ce71a69-ad87-4e7f-a5e0-e9c3cd340f28"
      },
      "source": [
        "df.shape"
      ],
      "execution_count": 125,
      "outputs": [
        {
          "output_type": "execute_result",
          "data": {
            "text/plain": [
              "(1050, 6)"
            ]
          },
          "metadata": {
            "tags": []
          },
          "execution_count": 125
        }
      ]
    },
    {
      "cell_type": "markdown",
      "metadata": {
        "id": "EpL1jO8SVnl8"
      },
      "source": [
        "Converting input and target values as array format for training"
      ]
    },
    {
      "cell_type": "code",
      "metadata": {
        "id": "eFTa86_L9DZJ"
      },
      "source": [
        "X = df[\"text\"].values\n",
        "y = df.label.values"
      ],
      "execution_count": 131,
      "outputs": []
    },
    {
      "cell_type": "code",
      "metadata": {
        "colab": {
          "base_uri": "https://localhost:8080/"
        },
        "id": "M1jvNkMvWBBt",
        "outputId": "021724d3-5f76-4491-9f82-563350cdb240"
      },
      "source": [
        "type(X)"
      ],
      "execution_count": 132,
      "outputs": [
        {
          "output_type": "execute_result",
          "data": {
            "text/plain": [
              "numpy.ndarray"
            ]
          },
          "metadata": {
            "tags": []
          },
          "execution_count": 132
        }
      ]
    },
    {
      "cell_type": "markdown",
      "metadata": {
        "id": "LSG3QtfKWI_s"
      },
      "source": [
        "Converting input text data into vectors using TFidf vectorisation method also removing stop words while doing vectorisation"
      ]
    },
    {
      "cell_type": "markdown",
      "metadata": {
        "id": "PxpgBqyeYiT5"
      },
      "source": [
        "initialising Tfidf model"
      ]
    },
    {
      "cell_type": "code",
      "metadata": {
        "id": "keuoyKcF7wFH"
      },
      "source": [
        "tfidf = TfidfVectorizer(stop_words=ENGLISH_STOP_WORDS,ngram_range=(1,2),max_df=0.85, min_df=0.01)"
      ],
      "execution_count": 129,
      "outputs": []
    },
    {
      "cell_type": "markdown",
      "metadata": {
        "id": "DWHKsw3qYmqV"
      },
      "source": [
        "fitting the model with the input data"
      ]
    },
    {
      "cell_type": "code",
      "metadata": {
        "id": "NwROt_ap9TfE"
      },
      "source": [
        "X_tfidf = tfidf.fit_transform(X)"
      ],
      "execution_count": 133,
      "outputs": []
    },
    {
      "cell_type": "code",
      "metadata": {
        "colab": {
          "base_uri": "https://localhost:8080/"
        },
        "id": "cn2v_Mo99cYV",
        "outputId": "4f872aef-b02f-41eb-b697-f70697a71ae4"
      },
      "source": [
        "X_tfidf"
      ],
      "execution_count": 155,
      "outputs": [
        {
          "output_type": "execute_result",
          "data": {
            "text/plain": [
              "<1050x5286 sparse matrix of type '<class 'numpy.float64'>'\n",
              "\twith 205880 stored elements in Compressed Sparse Row format>"
            ]
          },
          "metadata": {
            "tags": []
          },
          "execution_count": 155
        }
      ]
    },
    {
      "cell_type": "markdown",
      "metadata": {
        "id": "n7_Px7IpZJst"
      },
      "source": [
        "splitting the data into training and testing in the ratio of 80:20"
      ]
    },
    {
      "cell_type": "code",
      "metadata": {
        "id": "R_XhW7N69iDV"
      },
      "source": [
        "X_tfidf_train, X_tfidf_test, y_label_train, y_label_test = train_test_split(X_tfidf,y, test_size = 0.2, random_state=1234)\n"
      ],
      "execution_count": 156,
      "outputs": []
    },
    {
      "cell_type": "markdown",
      "metadata": {
        "id": "RwjkqSqOZ8qG"
      },
      "source": [
        "initialising XGBoost Classifier"
      ]
    },
    {
      "cell_type": "code",
      "metadata": {
        "id": "G82YDqgz-Ink"
      },
      "source": [
        "xgb = XGBClassifier()"
      ],
      "execution_count": 135,
      "outputs": []
    },
    {
      "cell_type": "markdown",
      "metadata": {
        "id": "5z1ObsYGaFCc"
      },
      "source": [
        "fitting or training the input data in XGBoost classifier"
      ]
    },
    {
      "cell_type": "code",
      "metadata": {
        "colab": {
          "base_uri": "https://localhost:8080/"
        },
        "id": "6jYA2FNb-kxe",
        "outputId": "4b44908b-98e0-4cf0-d3a9-a6102e97447f"
      },
      "source": [
        "xgb.fit(X_tfidf_train, y_label_train)\n",
        "\n",
        "\n"
      ],
      "execution_count": 157,
      "outputs": [
        {
          "output_type": "execute_result",
          "data": {
            "text/plain": [
              "XGBClassifier(base_score=0.5, booster='gbtree', colsample_bylevel=1,\n",
              "              colsample_bynode=1, colsample_bytree=1, gamma=0,\n",
              "              learning_rate=0.1, max_delta_step=0, max_depth=3,\n",
              "              min_child_weight=1, missing=None, n_estimators=100, n_jobs=1,\n",
              "              nthread=None, objective='binary:logistic', random_state=0,\n",
              "              reg_alpha=0, reg_lambda=1, scale_pos_weight=1, seed=None,\n",
              "              silent=None, subsample=1, verbosity=1)"
            ]
          },
          "metadata": {
            "tags": []
          },
          "execution_count": 157
        }
      ]
    },
    {
      "cell_type": "markdown",
      "metadata": {
        "id": "c6jK3YjIbINJ"
      },
      "source": [
        "predict test data"
      ]
    },
    {
      "cell_type": "code",
      "metadata": {
        "id": "rzZ4IIpmadof"
      },
      "source": [
        "y_xgb_pred = xgb.predict(X_tfidf_test)"
      ],
      "execution_count": 158,
      "outputs": []
    },
    {
      "cell_type": "code",
      "metadata": {
        "colab": {
          "base_uri": "https://localhost:8080/"
        },
        "id": "77fdmlK-bSuX",
        "outputId": "c5e282a9-1d93-46be-f939-e5cca7d8cb78"
      },
      "source": [
        "y_xgb_pred"
      ],
      "execution_count": 138,
      "outputs": [
        {
          "output_type": "execute_result",
          "data": {
            "text/plain": [
              "array(['fake', 'fake', 'fake', 'true', 'fake', 'true', 'fake', 'true',\n",
              "       'fake', 'true', 'fake', 'true', 'true', 'true', 'true', 'true',\n",
              "       'fake', 'true', 'fake', 'fake', 'fake', 'true', 'fake', 'fake',\n",
              "       'true', 'fake', 'true', 'true', 'true', 'true', 'true', 'fake',\n",
              "       'true', 'true', 'fake', 'true', 'fake', 'fake', 'fake', 'fake',\n",
              "       'fake', 'true', 'true', 'true', 'true', 'fake', 'fake', 'true',\n",
              "       'fake', 'fake', 'fake', 'fake', 'true', 'fake', 'fake', 'true',\n",
              "       'true', 'true', 'fake', 'fake', 'true', 'fake', 'fake', 'true',\n",
              "       'fake', 'fake', 'true', 'true', 'fake', 'fake', 'true', 'true',\n",
              "       'fake', 'fake', 'true', 'true', 'fake', 'true', 'fake', 'true',\n",
              "       'fake', 'fake', 'fake', 'fake', 'true', 'fake', 'fake', 'true',\n",
              "       'fake', 'fake', 'fake', 'true', 'fake', 'true', 'fake', 'true',\n",
              "       'fake', 'fake', 'true', 'fake', 'fake', 'true', 'fake', 'true',\n",
              "       'true', 'true', 'fake', 'true', 'true', 'fake', 'true', 'fake',\n",
              "       'true', 'true', 'true', 'true', 'fake', 'true', 'true', 'true',\n",
              "       'fake', 'true', 'true', 'fake', 'fake', 'true', 'true', 'fake',\n",
              "       'fake', 'true', 'true', 'true', 'fake', 'true', 'fake', 'fake',\n",
              "       'true', 'true', 'true', 'true', 'true', 'fake', 'fake', 'fake',\n",
              "       'true', 'true', 'true', 'true', 'true', 'fake', 'true', 'true',\n",
              "       'true', 'true', 'fake', 'true', 'true', 'fake', 'true', 'true',\n",
              "       'true', 'true', 'fake', 'true', 'true', 'fake', 'true', 'fake',\n",
              "       'fake', 'fake', 'true', 'fake', 'fake', 'true', 'true', 'true',\n",
              "       'fake', 'true', 'fake', 'fake', 'true', 'fake', 'fake', 'true',\n",
              "       'true', 'fake', 'true', 'true', 'true', 'fake', 'true', 'fake',\n",
              "       'true', 'true', 'true', 'fake', 'true', 'fake', 'true', 'true',\n",
              "       'fake', 'fake', 'true', 'true', 'true', 'fake', 'true', 'fake',\n",
              "       'fake', 'true'], dtype=object)"
            ]
          },
          "metadata": {
            "tags": []
          },
          "execution_count": 138
        }
      ]
    },
    {
      "cell_type": "code",
      "metadata": {
        "colab": {
          "base_uri": "https://localhost:8080/"
        },
        "id": "D0hvtaTZbi6M",
        "outputId": "3a9d0d85-6594-4b7a-e438-aa418ea3c702"
      },
      "source": [
        "y_label_test"
      ],
      "execution_count": 139,
      "outputs": [
        {
          "output_type": "execute_result",
          "data": {
            "text/plain": [
              "array(['fake', 'fake', 'fake', 'fake', 'fake', 'true', 'true', 'true',\n",
              "       'fake', 'true', 'fake', 'true', 'true', 'true', 'true', 'fake',\n",
              "       'fake', 'true', 'fake', 'true', 'fake', 'true', 'fake', 'true',\n",
              "       'true', 'fake', 'true', 'fake', 'true', 'true', 'true', 'fake',\n",
              "       'true', 'fake', 'fake', 'true', 'fake', 'fake', 'fake', 'fake',\n",
              "       'fake', 'true', 'true', 'true', 'fake', 'fake', 'fake', 'true',\n",
              "       'fake', 'fake', 'fake', 'fake', 'true', 'fake', 'true', 'fake',\n",
              "       'fake', 'true', 'fake', 'fake', 'true', 'fake', 'fake', 'true',\n",
              "       'fake', 'fake', 'true', 'true', 'fake', 'true', 'true', 'true',\n",
              "       'fake', 'fake', 'true', 'true', 'fake', 'true', 'fake', 'fake',\n",
              "       'true', 'fake', 'fake', 'fake', 'true', 'fake', 'fake', 'true',\n",
              "       'fake', 'fake', 'fake', 'true', 'fake', 'true', 'true', 'true',\n",
              "       'fake', 'fake', 'true', 'fake', 'fake', 'true', 'fake', 'fake',\n",
              "       'true', 'true', 'fake', 'true', 'fake', 'fake', 'true', 'fake',\n",
              "       'true', 'fake', 'true', 'true', 'fake', 'fake', 'true', 'true',\n",
              "       'fake', 'true', 'true', 'fake', 'fake', 'true', 'true', 'fake',\n",
              "       'true', 'true', 'true', 'true', 'fake', 'true', 'fake', 'fake',\n",
              "       'true', 'true', 'true', 'true', 'fake', 'fake', 'fake', 'fake',\n",
              "       'true', 'true', 'true', 'true', 'fake', 'fake', 'true', 'true',\n",
              "       'true', 'fake', 'fake', 'true', 'true', 'fake', 'true', 'true',\n",
              "       'true', 'true', 'fake', 'true', 'true', 'fake', 'fake', 'fake',\n",
              "       'fake', 'fake', 'fake', 'fake', 'fake', 'true', 'true', 'true',\n",
              "       'fake', 'true', 'fake', 'fake', 'true', 'fake', 'true', 'true',\n",
              "       'fake', 'fake', 'true', 'true', 'true', 'fake', 'true', 'true',\n",
              "       'true', 'true', 'true', 'fake', 'true', 'fake', 'true', 'true',\n",
              "       'fake', 'true', 'true', 'fake', 'true', 'fake', 'true', 'fake',\n",
              "       'fake', 'fake'], dtype=object)"
            ]
          },
          "metadata": {
            "tags": []
          },
          "execution_count": 139
        }
      ]
    },
    {
      "cell_type": "code",
      "metadata": {
        "id": "bCpwKh9Z_ZCB"
      },
      "source": [
        "from sklearn.metrics import  accuracy_score"
      ],
      "execution_count": 140,
      "outputs": []
    },
    {
      "cell_type": "code",
      "metadata": {
        "colab": {
          "base_uri": "https://localhost:8080/"
        },
        "id": "pEyfFHr0AJ9t",
        "outputId": "d2e68602-c8db-40b7-fccd-e6fab820ba01"
      },
      "source": [
        "print('XGBOOST ACCURACY \\n')\n",
        "print ( \"Accuracy score {:.4}%\".format(accuracy_score(y_label_test, y_xgb_pred)*100) )"
      ],
      "execution_count": 142,
      "outputs": [
        {
          "output_type": "stream",
          "text": [
            "XGBOOST ACCURACY \n",
            "\n",
            "Accuracy score 85.24%\n"
          ],
          "name": "stdout"
        }
      ]
    },
    {
      "cell_type": "code",
      "metadata": {
        "id": "PZwsQmEcKyNv"
      },
      "source": [
        "def plot_confusion_matrix(cm, classes,\n",
        "                          normalize=False,\n",
        "                          title='Confusion matrix',\n",
        "                          cmap=plt.cm.Blues):\n",
        "\n",
        "    plt.imshow(cm, interpolation='nearest', cmap=cmap)\n",
        "    plt.title(title)\n",
        "    plt.colorbar()\n",
        "    tick_marks = np.arange(len(classes))\n",
        "    plt.xticks(tick_marks, classes, rotation=45)\n",
        "    plt.yticks(tick_marks, classes)\n",
        "\n",
        "    if normalize:\n",
        "        cm = cm.astype('float') / cm.sum(axis=1)[:, np.newaxis]\n",
        "        print(\"Normalized confusion matrix\")\n",
        "    else:\n",
        "        print('Confusion matrix')\n",
        "\n",
        "    thresh = cm.max() / 2.\n",
        "    for i, j in itertools.product(range(cm.shape[0]), range(cm.shape[1])):\n",
        "        plt.text(j, i, cm[i, j],\n",
        "                 horizontalalignment=\"center\",\n",
        "                 color=\"white\" if cm[i, j] > thresh else \"black\")\n",
        "\n",
        "    plt.tight_layout()\n",
        "    plt.ylabel('True label')\n",
        "    plt.xlabel('Predicted label')"
      ],
      "execution_count": 143,
      "outputs": []
    },
    {
      "cell_type": "code",
      "metadata": {
        "colab": {
          "base_uri": "https://localhost:8080/",
          "height": 328
        },
        "id": "aXheB0E5LIRl",
        "outputId": "0746f96e-da9f-4325-f320-dad63f96a937"
      },
      "source": [
        "cm = metrics.confusion_matrix(y_label_test, y_xgb_pred, labels=['fake', 'true'])\n",
        "plot_confusion_matrix(cm, classes=['fake', 'true'])"
      ],
      "execution_count": 145,
      "outputs": [
        {
          "output_type": "stream",
          "text": [
            "Confusion matrix\n"
          ],
          "name": "stdout"
        },
        {
          "output_type": "display_data",
          "data": {
            "image/png": "[encoded data removed]",
            "text/plain": [
              "<Figure size 432x288 with 2 Axes>"
            ]
          },
          "metadata": {
            "tags": [],
            "needs_background": "light"
          }
        }
      ]
    },
    {
      "cell_type": "code",
      "metadata": {
        "id": "HtkoNaASsN4o"
      },
      "source": [
        "\n",
        "# \n",
        "pickle_out = open(\"fake_news_detector.pickle\",\"wb\")\n",
        "pickle.dump(xgb, pickle_out)\n",
        "# pickle_out.close()"
      ],
      "execution_count": 152,
      "outputs": []
    },
    {
      "cell_type": "code",
      "metadata": {
        "id": "rxBbH2Im4JpP"
      },
      "source": [
        "loaded_model = pickle.load(open( \"fake_news_detector.pickle\", \"rb\" ) )"
      ],
      "execution_count": 154,
      "outputs": []
    },
    {
      "cell_type": "code",
      "metadata": {
        "id": "tkIp-_DhLsVP"
      },
      "source": [
        " "
      ],
      "execution_count": null,
      "outputs": []
    }
  ]
}